{
  "metadata": {
    "kernelspec": {
      "display_name": "Python 3",
      "language": "python",
      "name": "python3"
    },
    "language_info": {
      "name": "python",
      "version": "3.11.11",
      "mimetype": "text/x-python",
      "codemirror_mode": {
        "name": "ipython",
        "version": 3
      },
      "pygments_lexer": "ipython3",
      "nbconvert_exporter": "python",
      "file_extension": ".py"
    },
    "kaggle": {
      "accelerator": "gpu",
      "dataSources": [
        {
          "sourceId": 8190591,
          "sourceType": "datasetVersion",
          "datasetId": 4850432
        },
        {
          "sourceId": 8303996,
          "sourceType": "datasetVersion",
          "datasetId": 4933043
        },
        {
          "sourceId": 8304151,
          "sourceType": "datasetVersion",
          "datasetId": 4933099
        },
        {
          "sourceId": 8304593,
          "sourceType": "datasetVersion",
          "datasetId": 4933272
        },
        {
          "sourceId": 8407265,
          "sourceType": "datasetVersion",
          "datasetId": 5003045
        },
        {
          "sourceId": 11827255,
          "sourceType": "datasetVersion",
          "datasetId": 7429869
        },
        {
          "sourceId": 11852088,
          "sourceType": "datasetVersion",
          "datasetId": 7447356
        }
      ],
      "dockerImageVersionId": 31041,
      "isInternetEnabled": true,
      "language": "python",
      "sourceType": "notebook",
      "isGpuEnabled": true
    },
    "accelerator": "GPU",
    "colab": {
      "provenance": [],
      "include_colab_link": true
    },
    "gpuClass": "standard"
  },
  "nbformat_minor": 0,
  "nbformat": 4,
  "cells": [
    {
      "cell_type": "markdown",
      "metadata": {
        "id": "view-in-github",
        "colab_type": "text"
      },
      "source": [
        "<a href=\"https://colab.research.google.com/github/Pavitra-khare/DA6401_ASS3_withAtten/blob/main/ASS3_WithAttention.ipynb\" target=\"_parent\"><img src=\"https://colab.research.google.com/assets/colab-badge.svg\" alt=\"Open In Colab\"/></a>"
      ]
    },
    {
      "cell_type": "markdown",
      "source": [
        "# Import and login"
      ],
      "metadata": {
        "id": "VejTsKhNLm2A"
      }
    },
    {
      "cell_type": "code",
      "source": [
        "!pip install pytorch_lightning\n",
        "!pip install wandb\n"
      ],
      "metadata": {
        "execution": {
          "iopub.status.busy": "2025-05-17T23:47:22.179375Z",
          "iopub.execute_input": "2025-05-17T23:47:22.179660Z",
          "iopub.status.idle": "2025-05-17T23:47:22.184105Z",
          "shell.execute_reply.started": "2025-05-17T23:47:22.179643Z",
          "shell.execute_reply": "2025-05-17T23:47:22.183469Z"
        },
        "id": "ea9Qw2XX03Tv",
        "trusted": true
      },
      "outputs": [],
      "execution_count": null
    },
    {
      "cell_type": "code",
      "source": [
        "import wandb\n",
        "import pytorch_lightning as pl\n",
        "import torch\n",
        "import torch.nn as nn\n",
        "import torch.optim as optim\n",
        "import warnings\n",
        "import torch\n",
        "import torch.nn.functional as F\n",
        "torch.cuda.empty_cache()\n",
        "import matplotlib.pyplot as plt\n",
        "import seaborn as sns\n",
        "import numpy as np\n",
        "import torch.utils.data as data\n",
        "import pandas as pd\n",
        "import os\n",
        "import csv\n",
        "import matplotlib.pyplot as plt\n",
        "import matplotlib.patches as patches\n",
        "warnings.filterwarnings(\"ignore\")\n",
        "#function to create 3*3 grid of heatMap\n",
        "import matplotlib.font_manager as fm\n"
      ],
      "metadata": {
        "execution": {
          "iopub.status.busy": "2025-05-17T23:47:22.200542Z",
          "iopub.execute_input": "2025-05-17T23:47:22.200750Z",
          "iopub.status.idle": "2025-05-17T23:47:22.206313Z",
          "shell.execute_reply.started": "2025-05-17T23:47:22.200735Z",
          "shell.execute_reply": "2025-05-17T23:47:22.205543Z"
        },
        "id": "mUM6KgAM-oT1",
        "trusted": true
      },
      "outputs": [],
      "execution_count": null
    },
    {
      "cell_type": "code",
      "source": [
        "wandb.login(key=\"7ff4b917f4a107c44e50219b5fd09ece84a34600\")\n",
        "# wandb.init( project=\"CS6910_Assignment3\")\n",
        "# !wandb login 494428cc53b5c21da594f4fc75035d136c63a93c\n"
      ],
      "metadata": {
        "colab": {
          "base_uri": "https://localhost:8080/",
          "height": 176
        },
        "execution": {
          "iopub.status.busy": "2025-05-17T23:47:22.207252Z",
          "iopub.execute_input": "2025-05-17T23:47:22.207436Z",
          "iopub.status.idle": "2025-05-17T23:47:22.223262Z",
          "shell.execute_reply.started": "2025-05-17T23:47:22.207422Z",
          "shell.execute_reply": "2025-05-17T23:47:22.222649Z"
        },
        "id": "KZ1QyWsV-oUN",
        "outputId": "0fabf021-ae04-485c-b227-4938cbd538b7",
        "trusted": true
      },
      "outputs": [
        {
          "name": "stderr",
          "text": "\u001b[34m\u001b[1mwandb\u001b[0m: \u001b[33mWARNING\u001b[0m Calling wandb.login() after wandb.init() has no effect.\n",
          "output_type": "stream"
        },
        {
          "execution_count": 46,
          "output_type": "execute_result",
          "data": {
            "text/plain": "True"
          },
          "metadata": {}
        }
      ],
      "execution_count": null
    },
    {
      "cell_type": "markdown",
      "source": [
        "# Data Preprocessing"
      ],
      "metadata": {
        "id": "HwQHFp9POlu8"
      }
    },
    {
      "cell_type": "code",
      "source": [
        "def read_file_0(filepath):\n",
        "    def process_row(text_row):\n",
        "        return list(text_row)\n",
        "\n",
        "    def collect_characters(reader_obj):\n",
        "        all_chars = []\n",
        "        for entry in reader_obj:\n",
        "            all_chars += process_row(entry[0])\n",
        "        return all_chars\n",
        "\n",
        "    with open(filepath, mode='r') as file_handle:\n",
        "        csv_reader = csv.reader(file_handle)\n",
        "        return collect_characters(csv_reader)\n"
      ],
      "metadata": {
        "execution": {
          "iopub.status.busy": "2025-05-17T23:47:22.224464Z",
          "iopub.execute_input": "2025-05-17T23:47:22.224723Z",
          "iopub.status.idle": "2025-05-17T23:47:22.237513Z",
          "shell.execute_reply.started": "2025-05-17T23:47:22.224699Z",
          "shell.execute_reply": "2025-05-17T23:47:22.236914Z"
        },
        "id": "lL5546mp03Tw",
        "trusted": true
      },
      "outputs": [],
      "execution_count": null
    },
    {
      "cell_type": "code",
      "source": [
        "device = torch.device(\"cuda:0\" if torch.cuda.is_available() else \"cpu\")\n",
        "\n",
        "'''Location of your CSV file (Extracted file)\n",
        "Location of your CSV file if on kaggle than zip file is fine'''\n",
        "\n",
        "trainFilepath=\"/kaggle/input/myinput/aksharantar_sampled/hin/hin_train.csv\"\n",
        "valFilePath=\"/kaggle/input/myinput/aksharantar_sampled/hin/hin_valid.csv\"\n",
        "testFilePath=\"/kaggle/input/myinput/aksharantar_sampled/hin/hin_test.csv\""
      ],
      "metadata": {
        "execution": {
          "iopub.status.busy": "2025-05-17T23:47:22.238104Z",
          "iopub.execute_input": "2025-05-17T23:47:22.238276Z",
          "iopub.status.idle": "2025-05-17T23:47:22.252379Z",
          "shell.execute_reply.started": "2025-05-17T23:47:22.238262Z",
          "shell.execute_reply": "2025-05-17T23:47:22.251733Z"
        },
        "id": "R-OebR_K-oUE",
        "trusted": true
      },
      "outputs": [],
      "execution_count": null
    },
    {
      "cell_type": "code",
      "source": [
        "\n",
        "\n",
        "chars = read_file_0(trainFilepath)\n",
        "setChar=set(chars)\n",
        "setChar.add('|')\n",
        "setOfchar = list(setChar)\n",
        "\n",
        "# Create the association between characters and their corresponding integer indices\n",
        "char_to_idx_latin= {char: i+1 for i, char in enumerate(setOfchar)}"
      ],
      "metadata": {
        "execution": {
          "iopub.status.busy": "2025-05-17T23:47:22.253939Z",
          "iopub.execute_input": "2025-05-17T23:47:22.254212Z",
          "iopub.status.idle": "2025-05-17T23:47:22.319304Z",
          "shell.execute_reply.started": "2025-05-17T23:47:22.254193Z",
          "shell.execute_reply": "2025-05-17T23:47:22.318601Z"
        },
        "id": "MuY2sxX_03Tx",
        "trusted": true
      },
      "outputs": [],
      "execution_count": null
    },
    {
      "cell_type": "code",
      "source": [
        "def read_file_1(trainFilepath):\n",
        "    def extract_chars(text):\n",
        "        return list(text)\n",
        "\n",
        "    def accumulate(reader_obj):\n",
        "        buffer = []\n",
        "        for entry in reader_obj:\n",
        "            buffer += extract_chars(entry[1])\n",
        "        return buffer\n",
        "\n",
        "    with open(trainFilepath, 'r') as file_stream:\n",
        "        csv_rows = csv.reader(file_stream)\n",
        "        return accumulate(csv_rows)"
      ],
      "metadata": {
        "execution": {
          "iopub.status.busy": "2025-05-17T23:47:22.320049Z",
          "iopub.execute_input": "2025-05-17T23:47:22.320277Z",
          "iopub.status.idle": "2025-05-17T23:47:22.327366Z",
          "shell.execute_reply.started": "2025-05-17T23:47:22.320259Z",
          "shell.execute_reply": "2025-05-17T23:47:22.326491Z"
        },
        "id": "_Fu5-CC603Tx",
        "trusted": true
      },
      "outputs": [],
      "execution_count": null
    },
    {
      "cell_type": "code",
      "source": [
        "maxLenDev=0\n",
        "\n",
        "chars = read_file_1(trainFilepath)\n",
        "setChar=set(chars)\n",
        "setChar.add('|')\n",
        "setOfchar = list(setChar)\n",
        "\n",
        "charToIndLang ={char: i+1 for i, char in enumerate(setOfchar)}"
      ],
      "metadata": {
        "execution": {
          "iopub.status.busy": "2025-05-17T23:47:22.328114Z",
          "iopub.execute_input": "2025-05-17T23:47:22.328287Z",
          "iopub.status.idle": "2025-05-17T23:47:22.417490Z",
          "shell.execute_reply.started": "2025-05-17T23:47:22.328273Z",
          "shell.execute_reply": "2025-05-17T23:47:22.416799Z"
        },
        "id": "BsSPFp2f-oUF",
        "trusted": true
      },
      "outputs": [],
      "execution_count": null
    },
    {
      "cell_type": "code",
      "source": [
        "with open(trainFilepath, 'r') as csv_file:\n",
        "    reader = csv.reader(csv_file)\n",
        "    max_length = 0\n",
        "\n",
        "    def update_max(current_max, candidate):\n",
        "        return candidate if candidate > current_max else current_max\n",
        "\n",
        "    for record in reader:\n",
        "        length = len(record[0])\n",
        "        max_length = update_max(max_length, length)\n",
        "\n",
        "    maxLenEng = max_length"
      ],
      "metadata": {
        "execution": {
          "iopub.status.busy": "2025-05-17T23:47:22.418252Z",
          "iopub.execute_input": "2025-05-17T23:47:22.418468Z",
          "iopub.status.idle": "2025-05-17T23:47:22.464237Z",
          "shell.execute_reply.started": "2025-05-17T23:47:22.418447Z",
          "shell.execute_reply": "2025-05-17T23:47:22.463772Z"
        },
        "id": "YnH-KUwf-oUH",
        "trusted": true
      },
      "outputs": [],
      "execution_count": null
    },
    {
      "cell_type": "code",
      "source": [
        "with open(trainFilepath, 'r') as csv_stream:\n",
        "    reader_obj = csv.reader(csv_stream)\n",
        "    longest = 0\n",
        "\n",
        "    def get_larger(a, b):\n",
        "        return b if b > a else a\n",
        "\n",
        "    for line in reader_obj:\n",
        "        current_length = len(line[1])\n",
        "        longest = get_larger(longest, current_length)\n",
        "\n",
        "    maxLenDev = longest"
      ],
      "metadata": {
        "execution": {
          "iopub.status.busy": "2025-05-17T23:47:22.464779Z",
          "iopub.execute_input": "2025-05-17T23:47:22.464938Z",
          "iopub.status.idle": "2025-05-17T23:47:22.508226Z",
          "shell.execute_reply.started": "2025-05-17T23:47:22.464926Z",
          "shell.execute_reply": "2025-05-17T23:47:22.507766Z"
        },
        "id": "_CT0LTQL-oUI",
        "trusted": true
      },
      "outputs": [],
      "execution_count": null
    }
  ]
}